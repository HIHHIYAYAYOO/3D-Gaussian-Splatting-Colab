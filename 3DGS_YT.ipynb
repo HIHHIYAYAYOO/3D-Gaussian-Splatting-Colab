{
  "nbformat": 4,
  "nbformat_minor": 0,
  "metadata": {
    "colab": {
      "provenance": [],
      "gpuType": "T4",
      "collapsed_sections": [
        "_loiYXcwtnSq",
        "eilVYuXUtvEK",
        "9ibCCHTCt-FU",
        "Bm-vNxMvt3MC"
      ]
    },
    "kernelspec": {
      "name": "python3",
      "display_name": "Python 3"
    },
    "language_info": {
      "name": "python"
    },
    "accelerator": "GPU"
  },
  "cells": [
    {
      "cell_type": "markdown",
      "source": [
        "# 掛載 Google 雲端硬碟"
      ],
      "metadata": {
        "id": "_loiYXcwtnSq"
      }
    },
    {
      "cell_type": "code",
      "source": [
        "#@title <font size=\"5\">Mount Google Drive</font> { vertical-output: true }\n",
        "from google.colab import drive\n",
        "drive.mount('/content/drive')"
      ],
      "metadata": {
        "id": "oD-j16I6yyjn",
        "cellView": "form"
      },
      "execution_count": null,
      "outputs": []
    },
    {
      "cell_type": "markdown",
      "source": [
        "# 安裝套件"
      ],
      "metadata": {
        "id": "eilVYuXUtvEK"
      }
    },
    {
      "cell_type": "code",
      "source": [
        "#@title <font size=\"5\">安裝 NVIDIA 的 CUDA-Toolkit ([參考資料](https://github.com/camenduru/gaussian-splatting-colab/issues))</font> { vertical-output: true }\n",
        "!sudo apt install nvidia-cuda-toolkit"
      ],
      "metadata": {
        "cellView": "form",
        "id": "LzVMhgCpDYFr"
      },
      "execution_count": null,
      "outputs": []
    },
    {
      "cell_type": "code",
      "source": [
        "#@title <font size=\"5\">下載 gaussian-splatting</font> { vertical-output: true }\n",
        "%cd /content\n",
        "!git clone --recursive https://github.com/camenduru/gaussian-splatting\n",
        "!pip install -q plyfile"
      ],
      "metadata": {
        "id": "CObXdPjry0Cp",
        "cellView": "form"
      },
      "execution_count": null,
      "outputs": []
    },
    {
      "cell_type": "code",
      "source": [
        "#@title <font size=\"5\">安裝 diff_gaussian_rasterization 和 simple_knn ([參考資料](https://colab.research.google.com/github/camenduru/gaussian-splatting-colab/blob/main/gaussian_splatting_colab.ipynb))</font> { vertical-output: true }\n",
        "%cd /content/gaussian-splatting\n",
        "!pip install -q https://huggingface.co/camenduru/gaussian-splatting/resolve/main/diff_gaussian_rasterization-0.0.0-cp310-cp310-linux_x86_64.whl\n",
        "!pip install -q https://huggingface.co/camenduru/gaussian-splatting/resolve/main/simple_knn-0.0.0-cp310-cp310-linux_x86_64.whl"
      ],
      "metadata": {
        "cellView": "form",
        "id": "-70mWZ528hvn"
      },
      "execution_count": null,
      "outputs": []
    },
    {
      "cell_type": "code",
      "source": [
        "#@title <font size=\"5\">安裝 colmap ([參考資料](https://colab.research.google.com/drive/13u8DX9BNzQwiyPPCB7_4DbSxiQ5-_nGF#scrollTo=ahZzbkIbSQAL))</font> { vertical-output: true }\n",
        "%cd /content\n",
        "!apt-get install \\\n",
        "    ninja-build \\\n",
        "    build-essential \\\n",
        "    libboost-program-options-dev \\\n",
        "    libboost-filesystem-dev \\\n",
        "    libboost-graph-dev \\\n",
        "    libboost-system-dev \\\n",
        "    libeigen3-dev \\\n",
        "    libflann-dev \\\n",
        "    libfreeimage-dev \\\n",
        "    libmetis-dev \\\n",
        "    libgoogle-glog-dev \\\n",
        "    libgtest-dev \\\n",
        "    libsqlite3-dev \\\n",
        "    libglew-dev \\\n",
        "    qtbase5-dev \\\n",
        "    libqt5opengl5-dev \\\n",
        "    libcgal-dev \\\n",
        "    libceres-dev\n",
        "!apt-get install xvfb\n",
        "# libglvnd is needed for COLMAP to run on Google Colab (https://github.com/colmap/colmap/issues/1271#issuecomment-931900582)\n",
        "!git clone https://github.com/NVIDIA/libglvnd\n",
        "%cd /content/libglvnd\n",
        "!apt-get install libxext-dev libx11-dev x11proto-gl-dev\n",
        "!apt-get install autoconf automake libtool\n",
        "!apt-get install libffi-dev\n",
        "!./autogen.sh\n",
        "!./configure\n",
        "!make -j4\n",
        "!make install\n",
        "# Download and extract the pre-compiled COLMAP library\n",
        "%cd /content\n",
        "!gdown 1PyyNKY2mt4dHlYN5WcPnvWdV2nufQru1\n",
        "!tar -C /usr -zxf colmap-3.8.tar.gz\n",
        "# Install other Python libraries for the data preparation scripts\n",
        "!pip install \\\n",
        "    addict \\\n",
        "    k3d \\\n",
        "    opencv-python-headless \\\n",
        "    pillow \\\n",
        "    plotly \\\n",
        "    pyyaml \\\n",
        "    trimesh"
      ],
      "metadata": {
        "id": "dkcCREqXg2p9",
        "cellView": "form"
      },
      "execution_count": null,
      "outputs": []
    },
    {
      "cell_type": "code",
      "source": [
        "#@title <font size=\"5\">安裝 FFmpeg ([參考資料](https://colab.research.google.com/github/google/nerfies/blob/main/notebooks/Nerfies_Capture_Processing.ipynb))</font> { vertical-output: true }\n",
        "!apt-get install ffmpeg"
      ],
      "metadata": {
        "cellView": "form",
        "id": "LIcsPVnhNm1D"
      },
      "execution_count": null,
      "outputs": []
    },
    {
      "cell_type": "code",
      "source": [
        "#@title <font size=\"5\">安裝 pytube ([參考資料](https://colab.research.google.com/drive/1yTmguZ_6yn0LstBcYbbRVYIKCrPDKOSw?usp=sharing))</font> { vertical-output: true }\n",
        "!pip install pytube"
      ],
      "metadata": {
        "cellView": "form",
        "id": "u3FPpsteoqB_"
      },
      "execution_count": null,
      "outputs": []
    },
    {
      "cell_type": "markdown",
      "source": [
        "# 影片轉圖片"
      ],
      "metadata": {
        "id": "9ibCCHTCt-FU"
      }
    },
    {
      "cell_type": "code",
      "source": [
        "#@title <font size=\"5\">Run FFmpeg</font> { vertical-output: true }\n",
        "import os\n",
        "from pytube import YouTube\n",
        "\n",
        "video_URL = \"https://youtu.be/oGhMgFWXjHY\" #@param {type:\"string\"}\n",
        "quality = \"720p\" #@param {type:\"string\"}\n",
        "fps = \"2\" #@param {type:\"string\"}\n",
        "\n",
        "!cd /content/gaussian-splatting\n",
        "# 指定下載影片網址\n",
        "yt = YouTube(video_URL)\n",
        "# 篩選影片格式\n",
        "stream = yt.streams.filter(subtype='mp4', res={quality}).first()\n",
        "# 取得下載路徑及下載影片\n",
        "download_path = stream.download(\"/content/gaussian-splatting/\")\n",
        "# 將影片標題的空格替換成底線\n",
        "safe_title = yt.title.replace(\" \", \"_\")\n",
        "\n",
        "dst_folder = f\"/content/gaussian-splatting/data/{safe_title}/input\"\n",
        "if not os.path.exists(dst_folder):\n",
        "    os.makedirs(dst_folder)\n",
        "\n",
        "os.chdir(dst_folder)\n",
        "\n",
        "!ffmpeg -i {download_path} -qscale:v 1 -qmin 1 -vf fps={fps} %04d.jpg"
      ],
      "metadata": {
        "cellView": "form",
        "id": "zKpdYkvNuC9U"
      },
      "execution_count": null,
      "outputs": []
    },
    {
      "cell_type": "markdown",
      "source": [
        "# 運行 3D_gaussian_splatting"
      ],
      "metadata": {
        "id": "Bm-vNxMvt3MC"
      }
    },
    {
      "cell_type": "code",
      "source": [
        "#@title <font size=\"5\">執行 convert.py</font> { vertical-output: true }\n",
        "Folder = \"/content/gaussian-splatting/data/\\u003Cfile_name>\" #@param {type:\"string\"}\n",
        "\n",
        "%cd /content/gaussian-splatting\n",
        "!python convert.py -s {Folder}"
      ],
      "metadata": {
        "id": "wLey4406zM3y",
        "cellView": "form"
      },
      "execution_count": null,
      "outputs": []
    },
    {
      "cell_type": "code",
      "source": [
        "#@title <font size=\"5\">執行 train.py</font> { vertical-output: true }\n",
        "Folder = \"/content/gaussian-splatting/data/\\u003Cfile_name>\" #@param {type:\"string\"}\n",
        "\n",
        "%cd /content/gaussian-splatting\n",
        "!python train.py -s {Folder}"
      ],
      "metadata": {
        "id": "G5cV5sUlIjpa",
        "cellView": "form"
      },
      "execution_count": null,
      "outputs": []
    }
  ]
}