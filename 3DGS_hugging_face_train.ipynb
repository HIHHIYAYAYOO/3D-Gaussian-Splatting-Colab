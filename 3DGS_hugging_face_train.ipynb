{
  "nbformat": 4,
  "nbformat_minor": 0,
  "metadata": {
    "colab": {
      "provenance": [],
      "gpuType": "T4"
    },
    "kernelspec": {
      "name": "python3",
      "display_name": "Python 3"
    },
    "language_info": {
      "name": "python"
    },
    "accelerator": "GPU"
  },
  "cells": [
    {
      "cell_type": "code",
      "execution_count": null,
      "metadata": {
        "id": "WrzD5GU8ETRH",
        "cellView": "form"
      },
      "outputs": [],
      "source": [
        "#@title <font size=\"5\">Run by Hugging face URL</font> { vertical-output: true }\n",
        "import os\n",
        "\n",
        "hugging_face_URL = \"https://huggingface.co/ouo/3DGS_SE2/resolve/main/SE2.zip\" #@param {type:\"string\"}\n",
        "images_path = \"/content/gaussian-splatting/SE2\" #@param {type:\"string\"}\n",
        "filename = os.path.basename(hugging_face_URL)\n",
        "\n",
        "%cd /content\n",
        "!git clone --recursive https://github.com/camenduru/gaussian-splatting\n",
        "!pip install -q plyfile\n",
        "\n",
        "%cd /content/gaussian-splatting\n",
        "!pip install -q https://huggingface.co/camenduru/gaussian-splatting/resolve/main/diff_gaussian_rasterization-0.0.0-cp310-cp310-linux_x86_64.whl\n",
        "!pip install -q https://huggingface.co/camenduru/gaussian-splatting/resolve/main/simple_knn-0.0.0-cp310-cp310-linux_x86_64.whl\n",
        "!sudo apt install nvidia-cuda-toolkit\n",
        "\n",
        "!wget {hugging_face_URL}\n",
        "!unzip {filename}\n",
        "\n",
        "!python train.py -s {images_path}"
      ]
    }
  ]
}