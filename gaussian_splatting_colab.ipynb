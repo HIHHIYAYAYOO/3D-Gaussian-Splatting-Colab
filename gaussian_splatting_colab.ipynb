{
  "cells": [
    {
      "cell_type": "markdown",
      "source": [
        "# 掛載 Google 雲端硬碟"
      ],
      "metadata": {
        "id": "_loiYXcwtnSq"
      }
    },
    {
      "cell_type": "code",
      "source": [
        "#@title <font size=\"5\">Mount Google Drive</font> { vertical-output: true }\n",
        "from google.colab import drive\n",
        "drive.mount('/content/drive')"
      ],
      "metadata": {
        "id": "oD-j16I6yyjn",
        "cellView": "form"
      },
      "execution_count": null,
      "outputs": []
    },
    {
      "cell_type": "markdown",
      "source": [
        "# 安裝套件"
      ],
      "metadata": {
        "id": "eilVYuXUtvEK"
      }
    },
    {
      "cell_type": "code",
      "source": [
        "#@title <font size=\"5\">安裝 NVIDIA 的 CUDA-Toolkit ([參考資料](https://github.com/camenduru/gaussian-splatting-colab/issues))</font> { vertical-output: true }\n",
        "!sudo apt install nvidia-cuda-toolkit"
      ],
      "metadata": {
        "cellView": "form",
        "id": "LzVMhgCpDYFr"
      },
      "execution_count": null,
      "outputs": []
    },
    {
      "cell_type": "code",
      "source": [
        "#@title <font size=\"5\">下載 gaussian-splatting</font> { vertical-output: true }\n",
        "%cd /content\n",
        "!git clone --recursive https://github.com/camenduru/gaussian-splatting\n",
        "!pip install -q plyfile"
      ],
      "metadata": {
        "id": "CObXdPjry0Cp",
        "cellView": "form"
      },
      "execution_count": null,
      "outputs": []
    },
    {
      "cell_type": "code",
      "source": [
        "#@title <font size=\"5\">安裝 diff_gaussian_rasterization 和 simple_knn ([參考資料](https://colab.research.google.com/github/camenduru/gaussian-splatting-colab/blob/main/gaussian_splatting_colab.ipynb))</font> { vertical-output: true }\n",
        "%cd /content/gaussian-splatting\n",
        "!pip install -q https://huggingface.co/camenduru/gaussian-splatting/resolve/main/diff_gaussian_rasterization-0.0.0-cp310-cp310-linux_x86_64.whl\n",
        "!pip install -q https://huggingface.co/camenduru/gaussian-splatting/resolve/main/simple_knn-0.0.0-cp310-cp310-linux_x86_64.whl"
      ],
      "metadata": {
        "cellView": "form",
        "id": "-70mWZ528hvn"
      },
      "execution_count": null,
      "outputs": []
    },
    {
      "cell_type": "code",
      "source": [
        "#@title <font size=\"5\">安裝 colmap ([參考資料](https://colab.research.google.com/drive/13u8DX9BNzQwiyPPCB7_4DbSxiQ5-_nGF#scrollTo=ahZzbkIbSQAL))</font> { vertical-output: true }\n",
        "%cd /content\n",
        "!apt-get install \\\n",
        "    ninja-build \\\n",
        "    build-essential \\\n",
        "    libboost-program-options-dev \\\n",
        "    libboost-filesystem-dev \\\n",
        "    libboost-graph-dev \\\n",
        "    libboost-system-dev \\\n",
        "    libeigen3-dev \\\n",
        "    libflann-dev \\\n",
        "    libfreeimage-dev \\\n",
        "    libmetis-dev \\\n",
        "    libgoogle-glog-dev \\\n",
        "    libgtest-dev \\\n",
        "    libsqlite3-dev \\\n",
        "    libglew-dev \\\n",
        "    qtbase5-dev \\\n",
        "    libqt5opengl5-dev \\\n",
        "    libcgal-dev \\\n",
        "    libceres-dev\n",
        "!apt-get install xvfb\n",
        "# libglvnd is needed for COLMAP to run on Google Colab (https://github.com/colmap/colmap/issues/1271#issuecomment-931900582)\n",
        "!git clone https://github.com/NVIDIA/libglvnd\n",
        "%cd /content/libglvnd\n",
        "!apt-get install libxext-dev libx11-dev x11proto-gl-dev\n",
        "!apt-get install autoconf automake libtool\n",
        "!apt-get install libffi-dev\n",
        "!./autogen.sh\n",
        "!./configure\n",
        "!make -j4\n",
        "!make install\n",
        "# Download and extract the pre-compiled COLMAP library\n",
        "%cd /content\n",
        "!gdown 1PyyNKY2mt4dHlYN5WcPnvWdV2nufQru1\n",
        "!tar -C /usr -zxf colmap-3.8.tar.gz\n",
        "# Install other Python libraries for the data preparation scripts\n",
        "!pip install \\\n",
        "    addict \\\n",
        "    k3d \\\n",
        "    opencv-python-headless \\\n",
        "    pillow \\\n",
        "    plotly \\\n",
        "    pyyaml \\\n",
        "    trimesh"
      ],
      "metadata": {
        "id": "dkcCREqXg2p9",
        "cellView": "form"
      },
      "execution_count": null,
      "outputs": []
    },
    {
      "cell_type": "code",
      "source": [
        "#@title <font size=\"5\">安裝 FFmpeg ([參考資料](https://colab.research.google.com/github/google/nerfies/blob/main/notebooks/Nerfies_Capture_Processing.ipynb))</font> { vertical-output: true }\n",
        "!apt-get install ffmpeg"
      ],
      "metadata": {
        "cellView": "form",
        "id": "LIcsPVnhNm1D"
      },
      "execution_count": null,
      "outputs": []
    },
    {
      "cell_type": "markdown",
      "source": [
        "# 運行 FFmpeg"
      ],
      "metadata": {
        "id": "9ibCCHTCt-FU"
      }
    },
    {
      "cell_type": "code",
      "source": [
        "#@title <font size=\"5\">Run FFmpeg</font> { vertical-output: true }\n",
        "import os\n",
        "src_video = \"/content/drive/MyDrive/\\u003Cvideo_path>\" #@param {type:\"string\"}\n",
        "fps = \"2\" #@param {type:\"string\"}\n",
        "dst_folder = \"/content/gaussian-splatting/data/\\u003Cdata_name>/input\" #@param {type:\"string\"}\n",
        "\n",
        "if not os.path.exists(dst_folder):\n",
        "    os.makedirs(dst_folder)\n",
        "\n",
        "os.chdir(dst_folder)\n",
        "\n",
        "!ffmpeg -i {src_video} -qscale:v 1 -qmin 1 -vf fps={fps} %04d.jpg"
      ],
      "metadata": {
        "cellView": "form",
        "id": "zKpdYkvNuC9U"
      },
      "execution_count": null,
      "outputs": []
    },
    {
      "cell_type": "markdown",
      "source": [
        "# 運行 3D_gaussian_splatting"
      ],
      "metadata": {
        "id": "Bm-vNxMvt3MC"
      }
    },
    {
      "cell_type": "code",
      "source": [
        "#@title <font size=\"5\">複製照片來源(自選)</font> { vertical-output: true }\n",
        "import shutil\n",
        "import os\n",
        "\n",
        "# 設定來源和目標資料夾\n",
        "src_folder = \"/content/drive/MyDrive/\\u003Cphoto_path>\" #@param {type:\"string\"}\n",
        "dst_folder = \"/content/gaussian-splatting/data/\\u003Cfile_name>/input\" #@param {type:\"string\"}\n",
        "\n",
        "# 複製整個資料夾\n",
        "shutil.copytree(src_folder, dst_folder)"
      ],
      "metadata": {
        "id": "kR-RayjZ2vL2",
        "cellView": "form"
      },
      "execution_count": null,
      "outputs": []
    },
    {
      "cell_type": "code",
      "source": [
        "#@title <font size=\"5\">執行 convert.py</font> { vertical-output: true }\n",
        "Folder = \"/content/gaussian-splatting/data/\\u003Cfile_name>\" #@param {type:\"string\"}\n",
        "\n",
        "%cd /content/gaussian-splatting\n",
        "!python convert.py -s {Folder}"
      ],
      "metadata": {
        "id": "wLey4406zM3y",
        "cellView": "form"
      },
      "execution_count": null,
      "outputs": []
    },
    {
      "cell_type": "code",
      "source": [
        "#@title <font size=\"5\">複製 Sourcedata 到雲端硬碟(備份用)</font> { vertical-output: true }\n",
        "import shutil\n",
        "import os\n",
        "\n",
        "# 設定來源和目標資料夾\n",
        "src_folder = \"/content/gaussian-splatting/data/\\u003Cfile_name>\" #@param {type:\"string\"}\n",
        "dst_folder = \"/content/drive/MyDrive/Sourcedata/\\u003Cfile_name>\" #@param {type:\"string\"}\n",
        "\n",
        "# 複製整個資料夾\n",
        "shutil.copytree(src_folder, dst_folder)"
      ],
      "metadata": {
        "id": "NLq5miERsiPs",
        "cellView": "form"
      },
      "execution_count": null,
      "outputs": []
    },
    {
      "cell_type": "code",
      "source": [
        "#@title <font size=\"5\">執行 train.py</font> { vertical-output: true }\n",
        "Folder = \"/content/gaussian-splatting/data/\\u003Cfile_name>\" #@param {type:\"string\"}\n",
        "\n",
        "%cd /content/gaussian-splatting\n",
        "!python train.py -s {Folder}"
      ],
      "metadata": {
        "id": "G5cV5sUlIjpa",
        "cellView": "form"
      },
      "execution_count": null,
      "outputs": []
    },
    {
      "cell_type": "code",
      "source": [
        "#@title <font size=\"5\">複製 Output 到雲端硬碟(備份用)</font> { vertical-output: true }\n",
        "import shutil\n",
        "import os\n",
        "\n",
        "# 設定來源和目標資料夾\n",
        "src_folder = \"/content/gaussian-splatting/output\" #@param {type:\"string\"}\n",
        "dst_folder = \"/content/drive/MyDrive/Output/\\u003Cfile_name>\" #@param {type:\"string\"}\n",
        "\n",
        "# 複製整個資料夾\n",
        "shutil.copytree(src_folder, dst_folder)"
      ],
      "metadata": {
        "cellView": "form",
        "id": "l5vQEe0WWL4k"
      },
      "execution_count": null,
      "outputs": []
    },
    {
      "cell_type": "markdown",
      "source": [
        "# 實驗功能"
      ],
      "metadata": {
        "id": "NQJqCBVgPMHH"
      }
    },
    {
      "cell_type": "code",
      "source": [
        "#@title <font size=\"5\">輸入影片路徑一次運行全部</font> { vertical-output: true }\n",
        "\n",
        "# @markdown ### 輸入影片路徑\n",
        "video_path = \"/content/drive/MyDrive/3D_gaussian_splatting/\\u003Cvideo_path>.mp4\" #@param {type:\"string\"}\n",
        "fps = \"1\" #@param {type:\"string\"}\n",
        "filename = os.path.splitext(os.path.basename(video_path))[0]\n",
        "\n",
        "dst_folder = f\"/content/gaussian-splatting/data/{filename}/input\"\n",
        "train_data = f\"/content/gaussian-splatting/data/{filename}\"\n",
        "dst_sourcedata = f\"/content/drive/MyDrive/SourceData/{filename}\"\n",
        "dst_output = f\"/content/drive/MyDrive/Output/{filename}\"\n",
        "\n",
        "import os\n",
        "import shutil\n",
        "\n",
        "# video to photo\n",
        "if not os.path.exists(dst_folder):\n",
        "  os.makedirs(dst_folder)\n",
        "os.chdir(dst_folder)\n",
        "!ffmpeg -i {video_path} -qscale:v 1 -qmin 1 -vf fps={fps} %04d.jpg\n",
        "\n",
        "# convert\n",
        "%cd /content/gaussian-splatting\n",
        "!python convert.py -s {train_data}\n",
        "\n",
        "# downloade source_data\n",
        "src_sourcedata = f\"/content/gaussian-splatting/data/{filename}\"\n",
        "if os.path.exists(dst_sourcedata):\n",
        "    shutil.rmtree(dst_sourcedata)\n",
        "shutil.copytree(src_sourcedata, dst_sourcedata)\n",
        "\n",
        "# train\n",
        "!python train.py -s {train_data}\n",
        "\n",
        "# downloade output\n",
        "src_output = \"/content/gaussian-splatting/output\"\n",
        "if os.path.exists(dst_output):\n",
        "    shutil.rmtree(dst_output)\n",
        "shutil.copytree(src_output, dst_output)"
      ],
      "metadata": {
        "id": "kXAm6B-yPPfK",
        "cellView": "form"
      },
      "execution_count": null,
      "outputs": []
    }
  ],
  "metadata": {
    "accelerator": "GPU",
    "colab": {
      "gpuType": "T4",
      "provenance": [],
      "collapsed_sections": [
        "_loiYXcwtnSq",
        "eilVYuXUtvEK",
        "9ibCCHTCt-FU",
        "Bm-vNxMvt3MC",
        "NQJqCBVgPMHH"
      ]
    },
    "kernelspec": {
      "display_name": "Python 3",
      "name": "python3"
    },
    "language_info": {
      "name": "python"
    }
  },
  "nbformat": 4,
  "nbformat_minor": 0
}